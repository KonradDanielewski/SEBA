{
 "cells": [
  {
   "cell_type": "code",
   "execution_count": null,
   "id": "38766583",
   "metadata": {},
   "outputs": [],
   "source": [
    "from glob import glob\n",
    "import seba"
   ]
  },
  {
   "cell_type": "code",
   "execution_count": null,
   "id": "2bf4b525",
   "metadata": {},
   "outputs": [],
   "source": [
    "data_folder = r\"C:\\Ephys_analysis\\data\\Ephys\\NP2_test\" #folder that contains folders with ephys recordings\n",
    "histology_folder = r\"C:\\Ephys_analysis\\data\\NP_tiled\" #folder that contains folders with HERBS output after drawing probes onto the images\n",
    "filepaths = glob(r\"C:\\Ephys_analysis\\data\\behav_annot_old\\*.bvs\") #path to behaview output of behaview behavior annotation\n",
    "framert = [30, 50, 50, 50, 50, 50] #list of framerates of videos\n",
    "save_path = glob(r\"C:\\Ephys_analysis\\data\\Ephys\\*\") #list of folders with ephys_recordings\n",
    "save_results=r\"C:\\Ephys_analysis\\data\\Results_test\" #folder in which the data structure and plots will be saved"
   ]
  },
  {
   "cell_type": "code",
   "execution_count": null,
   "id": "35ad8369",
   "metadata": {},
   "outputs": [],
   "source": [
    "#If using BehaView\n",
    "for file, fps, save in zip(filepaths, framert, save_path): \n",
    "     seba.data.io.read_bvs(filepath=file, framerate=fps, save_path=save)\n",
    "seba.extract_raw_events_TS_BehaView(data_folder=[data_folder], framerate=30, append_CS=True, CS_filename=\"TTL_3.txt\", CS_len=20)"
   ]
  },
  {
   "cell_type": "code",
   "execution_count": null,
   "id": "a7a8bd82",
   "metadata": {},
   "outputs": [],
   "source": [
    "#If using boris annotations - assumes that for each recording annotations from boris were manually moved to corresponding folder\n",
    "seba.read_extract_boris(data_folder=[data_folder], boris_output=\"boris_output.csv\", \n",
    "                      camera_TTL=\"cam_TTL.txt\", append_CS=True, CS_filename=\"TTL_3.txt\", CS_len=20, padding=False)              "
   ]
  },
  {
   "cell_type": "code",
   "execution_count": null,
   "id": "fbbfbe97",
   "metadata": {},
   "outputs": [],
   "source": [
    "#Get histology data\n",
    "#If using neuropixels 2.0. If not, skip first function\n",
    "seba.fix_wrong_shank_NP2([data_folder])\n",
    "seba.get_brain_regions([data_folder], histology_folder, neuropixels_20=True)"
   ]
  },
  {
   "cell_type": "code",
   "execution_count": null,
   "id": "38c589be",
   "metadata": {},
   "outputs": [],
   "source": [
    "#Build data structure\n",
    "data_obj = seba.structurize_data([data_folder], save_path=save_results, pre_event=2, post_event=4, bin_size=0.01, calculate_responsive=True, p_bound=0.05)\n",
    "#Save information about responsivity to cluster_info_good.csv\n",
    "seba.responsive_neurons2events([data_folder], data_obj)"
   ]
  },
  {
   "cell_type": "code",
   "execution_count": null,
   "id": "f862ef87",
   "metadata": {},
   "outputs": [],
   "source": [
    "#Define pairs of behaviors you want to explore\n",
    "behavioral_pairs = [[\"freezing_ephys_onsets\", \"freezing_non_ephys_onsets\"],\n",
    "                    [\"rearing_ephys_onsets\", \"rearing_non_ephys_onsets\"],\n",
    "                    [\"freezing_ephys_onsets\", \"CS_onsets\"],\n",
    "                    [\"rearing_ephys_onsets\", \"social_onsets\"],\n",
    "                    [\"freezing_ephys_offsets\", \"freezing_non_ephys_offsets\"],\n",
    "                    [\"rearing_ephys_offsets\", \"rearing_non_ephys_offsets\"],\n",
    "                    [\"freezing_ephys_offsets\", \"CS_offsets\"],\n",
    "                    [\"rearing_ephys_offsets\", \"social_offsets\"],\n",
    "                    [\"freezing_ephys_onsets\", \"freezing_ephys_offsets\"],\n",
    "                    [\"rearing_ephys_onsets\", \"rearing_ephys_offsets\"],\n",
    "                    [\"CS_onsets\", \"CS_offsets\"],\n",
    "                    [\"social_onsets\", \"social_offsets\"],\n",
    "                    ]"
   ]
  },
  {
   "cell_type": "code",
   "execution_count": null,
   "id": "fbd3c688",
   "metadata": {},
   "outputs": [],
   "source": [
    "seba.plot_common_nrns_matrix(data_obj, save_results, per_animal=False, percent_all_neurons=False)\n",
    "#Plots everything\n",
    "for pair in behavioral_pairs:\n",
    "    seba.plot_heatmaps_paired(data_obj, pair, save_path=save_results, per_animal=False, responsive_only=True, colormap = \"inferno\", z_score=True)\n",
    "    seba.plot_lin_reg_scatter(data_obj, pair, save_path=save_results, per_animal=False, responsive_only=True)\n",
    "    seba.plot_psths_paired(data_obj, pair, save_path=save_results, responsive_only=True, z_score=True, ylimit= [-1, 3])\n",
    "\n",
    "seba.plot_psths(data_obj, save_results, ylimit= [-1, 3], responsive_only=True)\n",
    "seba.plot_heatmaps(data_obj, save_results, responsive_only=True)\n",
    "seba.neurons_per_structure([data_folder], data_obj, save_results)\n",
    "seba.neurons_per_event([data_folder], data_obj, save_results)"
   ]
  }
 ],
 "metadata": {
  "kernelspec": {
   "display_name": "Python 3 (ipykernel)",
   "language": "python",
   "name": "python3"
  },
  "language_info": {
   "codemirror_mode": {
    "name": "ipython",
    "version": 3
   },
   "file_extension": ".py",
   "mimetype": "text/x-python",
   "name": "python",
   "nbconvert_exporter": "python",
   "pygments_lexer": "ipython3",
   "version": "3.12.0"
  }
 },
 "nbformat": 4,
 "nbformat_minor": 5
}
